{
 "cells": [
  {
   "cell_type": "markdown",
   "id": "2761e554",
   "metadata": {},
   "source": [
    "## data generation"
   ]
  },
  {
   "cell_type": "code",
   "execution_count": 1,
   "id": "cacb334b",
   "metadata": {},
   "outputs": [
    {
     "name": "stderr",
     "output_type": "stream",
     "text": [
      "D:\\Anaconda\\lib\\site-packages\\numpy\\_distributor_init.py:32: UserWarning: loaded more than 1 DLL from .libs:\n",
      "D:\\Anaconda\\lib\\site-packages\\numpy\\.libs\\libopenblas.TXA6YQSD3GCQQC22GEQ54J2UDCXDXHWN.gfortran-win_amd64.dll\n",
      "D:\\Anaconda\\lib\\site-packages\\numpy\\.libs\\libopenblas.WCDJNK7YVMPZQ2ME2ZZHJJRJ3JIKNDB7.gfortran-win_amd64.dll\n",
      "  stacklevel=1)\n",
      "\n",
      "Bad key \"text.kerning_factor\" on line 4 in\n",
      "D:\\Anaconda\\lib\\site-packages\\matplotlib\\mpl-data\\stylelib\\_classic_test_patch.mplstyle.\n",
      "You probably need to get an updated matplotlibrc file from\n",
      "https://github.com/matplotlib/matplotlib/blob/v3.1.3/matplotlibrc.template\n",
      "or from the matplotlib source distribution\n",
      "Using backend: pytorch\n"
     ]
    }
   ],
   "source": [
    "from locally_connected import LocallyConnected\n",
    "from lbfgsb_scipy import LBFGSBScipy\n",
    "from trace_expm import trace_expm\n",
    "from sklearn.metrics import f1_score\n",
    "import torch\n",
    "import torch.nn as nn\n",
    "import numpy as np\n",
    "import scipy.sparse\n",
    "import GraphNOTEARS\n",
    "import notears_torch_version\n",
    "import lasso\n",
    "import dynotears\n",
    "import utils as ut\n",
    "import matplotlib.pyplot as plt\n",
    "import networkx as nx\n",
    "import dgl\n",
    "import random\n",
    "import utils as ut\n",
    "import dgl.function as fn\n",
    "import torch.nn as nn\n",
    "import torch.nn.functional as F\n",
    "from dgl import DGLGraph\n",
    "import pandas as pd\n",
    "#device = torch.device(\"cuda:0\")\n",
    "device = torch.device(\"cuda\")"
   ]
  },
  {
   "cell_type": "code",
   "execution_count": 5,
   "id": "e45970cd",
   "metadata": {},
   "outputs": [],
   "source": [
    "def data_pre_new(n, d, s0, w_graph_type, p_graph_type, sem_type):\n",
    "    #binary W\n",
    "    w_true = ut.simulate_dag(d, s0, w_graph_type)\n",
    "    #weighted W\n",
    "    w_mat = ut.simulate_parameter(w_true)\n",
    "    w_test_mat=w_mat.copy()\n",
    "    #A\n",
    "    adj1 = ut.generate_adj(n) \n",
    "    #node to target\n",
    "    num_target=np.nonzero(w_mat[:,-1])[0]#4,14\n",
    "    n_suprious=-1.0\n",
    "    suprious_dict={}\n",
    "    #if no suprious variable existed\n",
    "    if len(num_target)==0:\n",
    "        return w_mat,w_mat, w_mat, w_mat,w_mat,w_mat,n_suprious,w_mat\n",
    "    else:\n",
    "        #create the spurious variable\n",
    "        for i in range(len(num_target)):\n",
    "            suprious_list=np.nonzero(w_mat[num_target[i],:])[0]#12\n",
    "\n",
    "            for j in range(len(suprious_list)): \n",
    "                suprious=suprious_list[j]\n",
    "                #count the number of suprious variable\n",
    "                if suprious not in suprious_dict:\n",
    "                    suprious_dict[suprious]=1\n",
    "                    n_suprious+=1\n",
    "                    #remove other outgoing link\n",
    "                    w_mat[suprious,:]=0 #12,0\n",
    "                    w_test_mat[suprious,:]=0\n",
    "                    #print(suprious)\n",
    "                    #revert the link in the test\n",
    "                    if suprious!=d-1:\n",
    "                        w_test_mat[num_target[i],suprious]=-w_test_mat[num_target[i],suprious]\n",
    "                \n",
    "                \n",
    "    num_step = 5 #cannot work if num_step=1\n",
    "    #initial X0=X0W+B\n",
    "    Xbase = []\n",
    "    Xbase1 = ut.simulate_linear_sem(w_mat, n, sem_type, noise_scale=0.5)\n",
    "    #X1=X1W+AX0W+B\n",
    "    for i in range(num_step):\n",
    "        Xbase1 = ut.simulate_linear_sem_with_P(w_mat, w_mat, adj1@Xbase1, n, sem_type, noise_scale=1)\n",
    "        Xbase.append(Xbase1)\n",
    "        \n",
    "    #test data\n",
    "    Xbase_test = []\n",
    "    Xbase1_test = ut.simulate_linear_sem(w_test_mat, n, sem_type, noise_scale=0.5)\n",
    "    for i in range(num_step):\n",
    "        Xbase1_test = ut.simulate_linear_sem_with_P(w_test_mat, w_test_mat, adj1@Xbase1_test, n, sem_type, noise_scale=1)\n",
    "        Xbase_test.append(Xbase1_test)\n",
    "    \n",
    "    w_random = ut.simulate_dag(d, s0, w_graph_type)\n",
    "    return Xbase,Xbase_test, adj1, w_true,w_mat,w_test_mat,n_suprious,w_random"
   ]
  },
  {
   "cell_type": "code",
   "execution_count": 6,
   "id": "610eebc9",
   "metadata": {},
   "outputs": [],
   "source": [
    "torch.set_default_dtype(torch.double)\n",
    "np.set_printoptions(precision=3)\n",
    "\n",
    "torch.manual_seed(12345)\n",
    "ut.set_random_seed(12345)\n",
    "\n",
    "n = 50 #number of people\n",
    "\n",
    "d = 5 #number of features\n",
    "\n",
    "w_graph_type = 'ER'\n",
    "p_graph_type = 'ER' \n",
    "sem_type = 'exp'\n",
    "s0 =  d\n",
    "output=pd.DataFrame(columns=[\"train_acc\",\"valid_acc\",\"test_acc\",\"model\",\"n_suprious\"])\n",
    "ith=0\n",
    "replicates=100"
   ]
  },
  {
   "cell_type": "code",
   "execution_count": 7,
   "id": "e93cb6b0",
   "metadata": {},
   "outputs": [],
   "source": [
    "Xbase,Xbase_test, adj1, w_true,w_mat,w_test_mat,n_suprious,w_random=data_pre_new(n, d, s0, w_graph_type,p_graph_type, sem_type)"
   ]
  },
  {
   "cell_type": "code",
   "execution_count": 8,
   "id": "c7e13e9d",
   "metadata": {},
   "outputs": [
    {
     "data": {
      "text/plain": [
       "-1.0"
      ]
     },
     "execution_count": 8,
     "metadata": {},
     "output_type": "execute_result"
    }
   ],
   "source": [
    "n_suprious"
   ]
  },
  {
   "cell_type": "code",
   "execution_count": 9,
   "id": "c8626720",
   "metadata": {},
   "outputs": [
    {
     "data": {
      "image/png": "[encoded data removed]",
      "text/plain": [
       "<Figure size 288x288 with 2 Axes>"
      ]
     },
     "metadata": {
      "needs_background": "light"
     },
     "output_type": "display_data"
    }
   ],
   "source": [
    "##True W\n",
    "import matplotlib.pyplot as plt\n",
    "plt.matshow(w_mat,cmap = 'bwr', vmin = -1, vmax = 1)\n",
    "plt.colorbar()\n",
    "plt.show()"
   ]
  },
  {
   "cell_type": "code",
   "execution_count": 10,
   "id": "fec25326",
   "metadata": {},
   "outputs": [
    {
     "data": {
      "image/png": "[encoded data removed]",
      "text/plain": [
       "<Figure size 288x288 with 2 Axes>"
      ]
     },
     "metadata": {
      "needs_background": "light"
     },
     "output_type": "display_data"
    }
   ],
   "source": [
    "##True W\n",
    "import matplotlib.pyplot as plt\n",
    "plt.matshow(w_test_mat,cmap = 'bwr', vmin = -1, vmax = 1)\n",
    "plt.colorbar()\n",
    "plt.show()"
   ]
  },
  {
   "cell_type": "code",
   "execution_count": 11,
   "id": "7b5bf2f0",
   "metadata": {},
   "outputs": [
    {
     "data": {
      "image/png": "[encoded data removed]",
      "text/plain": [
       "<Figure size 288x288 with 2 Axes>"
      ]
     },
     "metadata": {
      "needs_background": "light"
     },
     "output_type": "display_data"
    }
   ],
   "source": [
    "##True W\n",
    "import matplotlib.pyplot as plt\n",
    "plt.matshow(w_random,cmap = 'bwr', vmin = -1, vmax = 1)\n",
    "plt.colorbar()\n",
    "plt.show()"
   ]
  },
  {
   "cell_type": "code",
   "execution_count": 12,
   "id": "a11f2675",
   "metadata": {},
   "outputs": [
    {
     "ename": "NameError",
     "evalue": "name 'Xlags' is not defined",
     "output_type": "error",
     "traceback": [
      "\u001b[1;31m---------------------------------------------------------------------------\u001b[0m",
      "\u001b[1;31mNameError\u001b[0m                                 Traceback (most recent call last)",
      "\u001b[1;32m<ipython-input-12-2d5808de8b24>\u001b[0m in \u001b[0;36m<module>\u001b[1;34m\u001b[0m\n\u001b[1;32m----> 1\u001b[1;33m \u001b[0mXlags\u001b[0m\u001b[1;33m[\u001b[0m\u001b[1;33m-\u001b[0m\u001b[1;36m1\u001b[0m\u001b[1;33m]\u001b[0m\u001b[1;33m[\u001b[0m\u001b[1;33m:\u001b[0m\u001b[1;33m,\u001b[0m\u001b[1;33m-\u001b[0m\u001b[1;36m1\u001b[0m\u001b[1;33m]\u001b[0m\u001b[1;33m.\u001b[0m\u001b[0mmean\u001b[0m\u001b[1;33m(\u001b[0m\u001b[1;33m)\u001b[0m\u001b[1;33m\u001b[0m\u001b[1;33m\u001b[0m\u001b[0m\n\u001b[0m",
      "\u001b[1;31mNameError\u001b[0m: name 'Xlags' is not defined"
     ]
    }
   ],
   "source": [
    "Xlags[-1][:,-1].mean()"
   ]
  },
  {
   "cell_type": "code",
   "execution_count": 13,
   "id": "138579a0",
   "metadata": {},
   "outputs": [
    {
     "ename": "NameError",
     "evalue": "name 'Xlags' is not defined",
     "output_type": "error",
     "traceback": [
      "\u001b[1;31m---------------------------------------------------------------------------\u001b[0m",
      "\u001b[1;31mNameError\u001b[0m                                 Traceback (most recent call last)",
      "\u001b[1;32m<ipython-input-13-94f6f230ed4c>\u001b[0m in \u001b[0;36m<module>\u001b[1;34m\u001b[0m\n\u001b[1;32m----> 1\u001b[1;33m \u001b[0mXlags\u001b[0m\u001b[1;33m[\u001b[0m\u001b[1;33m-\u001b[0m\u001b[1;36m1\u001b[0m\u001b[1;33m]\u001b[0m\u001b[1;33m.\u001b[0m\u001b[0mmean\u001b[0m\u001b[1;33m(\u001b[0m\u001b[0maxis\u001b[0m\u001b[1;33m=\u001b[0m\u001b[1;36m0\u001b[0m\u001b[1;33m)\u001b[0m\u001b[1;33m\u001b[0m\u001b[1;33m\u001b[0m\u001b[0m\n\u001b[0m",
      "\u001b[1;31mNameError\u001b[0m: name 'Xlags' is not defined"
     ]
    }
   ],
   "source": [
    "Xlags[-1].mean(axis=0)"
   ]
  },
  {
   "cell_type": "code",
   "execution_count": 14,
   "id": "d4685911",
   "metadata": {},
   "outputs": [
    {
     "ename": "NameError",
     "evalue": "name 'Xlags' is not defined",
     "output_type": "error",
     "traceback": [
      "\u001b[1;31m---------------------------------------------------------------------------\u001b[0m",
      "\u001b[1;31mNameError\u001b[0m                                 Traceback (most recent call last)",
      "\u001b[1;32m<ipython-input-14-3bc69ec2e7ee>\u001b[0m in \u001b[0;36m<module>\u001b[1;34m\u001b[0m\n\u001b[1;32m----> 1\u001b[1;33m \u001b[0mXlags\u001b[0m\u001b[1;33m[\u001b[0m\u001b[1;33m-\u001b[0m\u001b[1;36m1\u001b[0m\u001b[1;33m]\u001b[0m\u001b[1;33m[\u001b[0m\u001b[1;33m:\u001b[0m\u001b[1;33m]\u001b[0m\u001b[1;33m.\u001b[0m\u001b[0mmean\u001b[0m\u001b[1;33m(\u001b[0m\u001b[0maxis\u001b[0m\u001b[1;33m=\u001b[0m\u001b[1;36m0\u001b[0m\u001b[1;33m)\u001b[0m\u001b[1;33m[\u001b[0m\u001b[1;33m-\u001b[0m\u001b[1;36m1\u001b[0m\u001b[1;33m]\u001b[0m\u001b[1;33m\u001b[0m\u001b[1;33m\u001b[0m\u001b[0m\n\u001b[0m",
      "\u001b[1;31mNameError\u001b[0m: name 'Xlags' is not defined"
     ]
    }
   ],
   "source": [
    "Xlags[-1][:].mean(axis=0)[-1]"
   ]
  },
  {
   "cell_type": "code",
   "execution_count": 15,
   "id": "e865265d",
   "metadata": {},
   "outputs": [],
   "source": [
    "def get_node_feature(Xlags,node_num):\n",
    "#     for num_lags in range(1):\n",
    "#         if num_lags==0:\n",
    "#             X_feature=Xlags[num_lags][node_num]\n",
    "#         else:\n",
    "#             X_feature=np.append(X_feature,Xlags[num_lags][node_num])##shape num_lags*5 (250)\n",
    "    X_feature=Xlags[-1][node_num]\n",
    "    return(X_feature)\n",
    "def to_binary(x):\n",
    "    if x>Xlags[-1][:,-1].mean():\n",
    "        return 1\n",
    "    else:\n",
    "        return 0"
   ]
  },
  {
   "cell_type": "code",
   "execution_count": 16,
   "id": "ab86e196",
   "metadata": {},
   "outputs": [],
   "source": [
    "def create_graph(valid_list,adj1,Xlags,n):\n",
    " ##node list for validation\n",
    "    labels=[]\n",
    "    G = nx.from_numpy_array(adj1)\n",
    "    for node_num in range(n):\n",
    "        G.nodes[node_num]['feature']=get_node_feature(Xlags,node_num)[:-1]\n",
    "\n",
    "        G.nodes[node_num]['label']=to_binary(get_node_feature(Xlags,node_num)[-1])\n",
    "\n",
    "        labels.append(G.nodes[node_num]['label'])\n",
    "        if node_num in valid_list:\n",
    "            G.nodes[node_num]['train_mask']=False\n",
    "            G.nodes[node_num]['valid_mask']=True\n",
    "        else:\n",
    "            G.nodes[node_num]['train_mask']=True\n",
    "            G.nodes[node_num]['valid_mask']=False\n",
    "    g = dgl.from_networkx(G, node_attrs=['feature','label','train_mask','valid_mask'])\n",
    "    return g"
   ]
  },
  {
   "cell_type": "markdown",
   "id": "1556b5a5",
   "metadata": {},
   "source": [
    "## GCN"
   ]
  },
  {
   "cell_type": "code",
   "execution_count": 17,
   "id": "99b06103",
   "metadata": {},
   "outputs": [],
   "source": [
    "class GCNLayer(nn.Module):\n",
    "    def __init__(self, in_feats, out_feats):\n",
    "        super(GCNLayer, self).__init__()\n",
    "        self.linear = nn.Linear(in_feats, out_feats)\n",
    "\n",
    "    def forward(self, g, feature):\n",
    "        # Creating a local scope so that all the stored ndata and edata\n",
    "        # (such as the `'h'` ndata below) are automatically popped out\n",
    "        # when the scope exits.\n",
    "        with g.local_scope():\n",
    "            g.ndata['h'] = feature\n",
    "            g.update_all(gcn_msg, gcn_reduce)\n",
    "            h = g.ndata['h']\n",
    "            return self.linear(h)"
   ]
  },
  {
   "cell_type": "code",
   "execution_count": 18,
   "id": "066f024f",
   "metadata": {},
   "outputs": [],
   "source": [
    "class Net(nn.Module):\n",
    "    def __init__(self):\n",
    "        super(Net, self).__init__()\n",
    "        self.layer1 = GCNLayer(9, 4)\n",
    "        self.layer2 = GCNLayer(4, 2)\n",
    "\n",
    "    def forward(self, g, features):\n",
    "        x = F.relu(self.layer1(g, features))\n",
    "        x = self.layer2(g, x)\n",
    "        return x\n"
   ]
  },
  {
   "cell_type": "code",
   "execution_count": 19,
   "id": "cf70bd42",
   "metadata": {},
   "outputs": [],
   "source": [
    "def evaluate(model, g, features, labels, mask):\n",
    "    model.eval()\n",
    "    with torch.no_grad():\n",
    "        logits = model(g, features)\n",
    "        logits = logits[mask]\n",
    "        labels = labels[mask]\n",
    "        _, indices = torch.max(logits, dim=1)\n",
    "        correct = torch.sum(indices == labels)\n",
    "        return correct.item() * 1.0 / len(labels)"
   ]
  },
  {
   "cell_type": "code",
   "execution_count": 20,
   "id": "4ca3d404",
   "metadata": {},
   "outputs": [],
   "source": [
    "class atten_Net(nn.Module):\n",
    "    def __init__(self, in_feats, hid_feats, out_feats,n_node):\n",
    "        super(atten_Net, self).__init__()\n",
    "        self.layer1 = GCNLayer(in_feats, hid_feats)\n",
    "        self.layer2 = GCNLayer(hid_feats, out_feats)\n",
    "        self.att_mlp_1 = nn.Linear(n_node, hid_feats)\n",
    "        self.att_mlp_2 = nn.Linear(hid_feats, 2)\n",
    "        self.layer3 = GCNLayer(in_feats*2, hid_feats)\n",
    "        self.layer4 = GCNLayer(hid_feats, out_feats)\n",
    "\n",
    "    def forward(self, g, features,dag):\n",
    "        ##use mlp to get attention weights\n",
    "        node_att = F.relu(self.att_mlp_1(dag))\n",
    "        node_att = F.softmax(self.att_mlp_2(node_att), dim=-1)\n",
    "        node_weight_c = node_att[:, 0]\n",
    "        node_weight_o = node_att[:, 1]\n",
    "        ##attention on the causal/trival part\n",
    "        feature_c = node_weight_c.view(1, -1) * features\n",
    "        feature_o = node_weight_o.view(1, -1) * features\n",
    "        ## apply the mask on the features\n",
    "        xc = F.relu(self.layer1(g, feature_c))\n",
    "        xc = self.layer2(g, xc)\n",
    "        xc=F.log_softmax(xc, dim=-1)\n",
    "        \n",
    "        xo = F.relu(self.layer1(g, feature_o))\n",
    "        xo = self.layer2(g, xo)\n",
    "        xo=F.log_softmax(xo, dim=-1)\n",
    "        ##xco        \n",
    "        num = xc.shape[0]\n",
    "        l = [i for i in range(num)]\n",
    "        random.shuffle(l)\n",
    "        random_idx = torch.tensor(l)\n",
    "        xco = torch.cat((feature_c[random_idx], feature_o), dim=1)\n",
    "        xco = F.relu(self.layer3(g, xco))\n",
    "        xco = self.layer4(g, xco)\n",
    "        xco=F.log_softmax(xco, dim=-1)\n",
    "        \n",
    "        return xc,xo,xco"
   ]
  },
  {
   "cell_type": "code",
   "execution_count": 21,
   "id": "7db3a7bd",
   "metadata": {},
   "outputs": [],
   "source": [
    "def evaluate_new(model, g, features, labels, mask,dag):\n",
    "    model.eval()\n",
    "    with torch.no_grad():\n",
    "        logits_c,logits_o,logits_co = model(g, features,dag)\n",
    "        logits = logits_o[mask]\n",
    "        labels = labels[mask]\n",
    "        _, indices = torch.max(logits, dim=1)\n",
    "        correct = torch.sum(indices == labels)\n",
    "        return correct.item() * 1.0 / len(labels)"
   ]
  },
  {
   "cell_type": "code",
   "execution_count": 25,
   "id": "a08dbdd6",
   "metadata": {
    "scrolled": true
   },
   "outputs": [
    {
     "name": "stdout",
     "output_type": "stream",
     "text": [
      "-------------------the 0 iteration------------------\n",
      "finish data!\n",
      "finish fit graph!\n",
      "Early stopped training at epoch 204\n",
      "proposed:train 0.8666666666666667 valid 0.65 test 0.4 n_suprious 2.0\n",
      "-------------------the 1 iteration------------------\n",
      "finish data!\n",
      "finish fit graph!\n",
      "Early stopped training at epoch 57\n",
      "proposed:train 0.6 valid 0.4 test 0.4 n_suprious 4.0\n",
      "-------------------the 2 iteration------------------\n",
      "-------------------the 2 iteration------------------\n",
      "-------------------the 2 iteration------------------\n",
      "-------------------the 2 iteration------------------\n",
      "-------------------the 2 iteration------------------\n",
      "-------------------the 2 iteration------------------\n",
      "finish data!\n",
      "finish fit graph!\n",
      "Early stopped training at epoch 65\n",
      "proposed:train 0.7 valid 0.55 test 0.35 n_suprious 1.0\n",
      "-------------------the 3 iteration------------------\n",
      "finish data!\n",
      "finish fit graph!\n",
      "Early stopped training at epoch 104\n",
      "proposed:train 0.5666666666666667 valid 0.6 test 0.7 n_suprious 2.0\n",
      "-------------------the 4 iteration------------------\n",
      "finish data!\n",
      "finish fit graph!\n",
      "Early stopped training at epoch 68\n",
      "proposed:train 0.6333333333333333 valid 0.3 test 0.6 n_suprious 2.0\n",
      "-------------------the 5 iteration------------------\n",
      "finish data!\n",
      "finish fit graph!\n",
      "Early stopped training at epoch 60\n",
      "proposed:train 0.8666666666666667 valid 0.5 test 0.2 n_suprious 1.0\n",
      "-------------------the 6 iteration------------------\n",
      "-------------------the 6 iteration------------------\n",
      "finish data!\n",
      "finish fit graph!\n",
      "Early stopped training at epoch 67\n",
      "proposed:train 0.7666666666666667 valid 0.55 test 0.45 n_suprious 2.0\n",
      "-------------------the 7 iteration------------------\n",
      "-------------------the 7 iteration------------------\n",
      "finish data!\n",
      "finish fit graph!\n",
      "Early stopped training at epoch 68\n",
      "proposed:train 0.6333333333333333 valid 0.45 test 0.45 n_suprious 3.0\n",
      "-------------------the 8 iteration------------------\n",
      "-------------------the 8 iteration------------------\n",
      "-------------------the 8 iteration------------------\n",
      "-------------------the 8 iteration------------------\n",
      "-------------------the 8 iteration------------------\n",
      "finish data!\n",
      "finish fit graph!\n",
      "Early stopped training at epoch 64\n",
      "proposed:train 0.6 valid 0.55 test 0.4 n_suprious 2.0\n",
      "-------------------the 9 iteration------------------\n",
      "finish data!\n",
      "finish fit graph!\n",
      "proposed:train 0.4666666666666667 valid 0.45 test 0.35 n_suprious 3.0\n",
      "          train_acc  valid_acc  test_acc  n_suprious\n",
      "model                                               \n",
      "proposed       0.67        0.5      0.43         2.2\n",
      "-------------------the 10 iteration------------------\n",
      "-------------------the 10 iteration------------------\n",
      "-------------------the 10 iteration------------------\n",
      "finish data!\n",
      "finish fit graph!\n",
      "Early stopped training at epoch 65\n",
      "proposed:train 0.8333333333333334 valid 0.6 test 0.7 n_suprious 2.0\n",
      "-------------------the 11 iteration------------------\n",
      "finish data!\n",
      "finish fit graph!\n",
      "Early stopped training at epoch 55\n",
      "proposed:train 0.7333333333333333 valid 0.45 test 0.5 n_suprious 3.0\n",
      "-------------------the 12 iteration------------------\n",
      "finish data!\n",
      "finish fit graph!\n",
      "Early stopped training at epoch 54\n",
      "proposed:train 0.7333333333333333 valid 0.35 test 0.7 n_suprious 2.0\n",
      "-------------------the 13 iteration------------------\n",
      "finish data!\n",
      "finish fit graph!\n",
      "Early stopped training at epoch 104\n",
      "proposed:train 0.6333333333333333 valid 0.45 test 0.65 n_suprious 2.0\n",
      "-------------------the 14 iteration------------------\n",
      "-------------------the 14 iteration------------------\n",
      "finish data!\n",
      "finish fit graph!\n",
      "Early stopped training at epoch 103\n",
      "proposed:train 0.7333333333333333 valid 0.6 test 0.55 n_suprious 1.0\n",
      "-------------------the 15 iteration------------------\n",
      "finish data!\n",
      "finish fit graph!\n",
      "Early stopped training at epoch 76\n",
      "proposed:train 0.6 valid 0.55 test 0.55 n_suprious 2.0\n",
      "-------------------the 16 iteration------------------\n",
      "-------------------the 16 iteration------------------\n",
      "finish data!\n",
      "finish fit graph!\n",
      "Early stopped training at epoch 136\n",
      "proposed:train 0.6333333333333333 valid 0.65 test 0.75 n_suprious 4.0\n",
      "-------------------the 17 iteration------------------\n",
      "-------------------the 17 iteration------------------\n",
      "finish data!\n",
      "finish fit graph!\n",
      "Early stopped training at epoch 215\n",
      "proposed:train 0.7333333333333333 valid 0.6 test 0.45 n_suprious 3.0\n",
      "-------------------the 18 iteration------------------\n",
      "-------------------the 18 iteration------------------\n",
      "-------------------the 18 iteration------------------\n",
      "-------------------the 18 iteration------------------\n",
      "-------------------the 18 iteration------------------\n",
      "-------------------the 18 iteration------------------\n",
      "-------------------the 18 iteration------------------\n",
      "finish data!\n",
      "finish fit graph!\n",
      "Early stopped training at epoch 80\n",
      "proposed:train 0.7333333333333333 valid 0.6 test 0.6 n_suprious 3.0\n",
      "-------------------the 19 iteration------------------\n",
      "finish data!\n",
      "finish fit graph!\n",
      "Early stopped training at epoch 52\n",
      "proposed:train 0.9333333333333333 valid 0.55 test 0.7 n_suprious 1.0\n",
      "          train_acc  valid_acc  test_acc  n_suprious\n",
      "model                                               \n",
      "proposed        0.7       0.52    0.5225        2.25\n",
      "-------------------the 20 iteration------------------\n",
      "finish data!\n",
      "finish fit graph!\n",
      "Early stopped training at epoch 136\n",
      "proposed:train 0.8 valid 0.5 test 0.4 n_suprious 2.0\n",
      "-------------------the 21 iteration------------------\n",
      "-------------------the 21 iteration------------------\n",
      "finish data!\n",
      "finish fit graph!\n",
      "Early stopped training at epoch 185\n",
      "proposed:train 0.8 valid 0.55 test 0.65 n_suprious 2.0\n",
      "-------------------the 22 iteration------------------\n",
      "-------------------the 22 iteration------------------\n",
      "-------------------the 22 iteration------------------\n",
      "-------------------the 22 iteration------------------\n",
      "finish data!\n",
      "finish fit graph!\n",
      "Early stopped training at epoch 71\n",
      "proposed:train 0.6666666666666666 valid 0.45 test 0.4 n_suprious 1.0\n",
      "-------------------the 23 iteration------------------\n",
      "-------------------the 23 iteration------------------\n",
      "-------------------the 23 iteration------------------\n",
      "finish data!\n",
      "finish fit graph!\n",
      "Early stopped training at epoch 73\n",
      "proposed:train 0.6666666666666666 valid 0.65 test 0.7 n_suprious 2.0\n",
      "-------------------the 24 iteration------------------\n",
      "-------------------the 24 iteration------------------\n",
      "finish data!\n",
      "finish fit graph!\n",
      "Early stopped training at epoch 57\n",
      "proposed:train 0.7333333333333333 valid 0.45 test 0.55 n_suprious 1.0\n",
      "-------------------the 25 iteration------------------\n",
      "finish data!\n",
      "finish fit graph!\n",
      "Early stopped training at epoch 192\n",
      "proposed:train 0.6333333333333333 valid 0.5 test 0.55 n_suprious 1.0\n",
      "-------------------the 26 iteration------------------\n",
      "finish data!\n",
      "finish fit graph!\n",
      "proposed:train 0.7333333333333333 valid 0.85 test 0.65 n_suprious 2.0\n",
      "-------------------the 27 iteration------------------\n",
      "-------------------the 27 iteration------------------\n",
      "finish data!\n",
      "finish fit graph!\n",
      "Early stopped training at epoch 126\n",
      "proposed:train 0.8333333333333334 valid 0.8 test 0.4 n_suprious 1.0\n",
      "-------------------the 28 iteration------------------\n",
      "-------------------the 28 iteration------------------\n",
      "-------------------the 28 iteration------------------\n",
      "-------------------the 28 iteration------------------\n",
      "-------------------the 28 iteration------------------\n",
      "finish data!\n",
      "finish fit graph!\n",
      "Early stopped training at epoch 98\n",
      "proposed:train 0.5333333333333333 valid 0.6 test 0.35 n_suprious 1.0\n",
      "-------------------the 29 iteration------------------\n",
      "finish data!\n",
      "finish fit graph!\n",
      "Early stopped training at epoch 152\n",
      "proposed:train 0.7333333333333333 valid 0.6 test 0.5 n_suprious 1.0\n",
      "          train_acc  valid_acc  test_acc  n_suprious\n",
      "model                                               \n",
      "proposed   0.704444      0.545      0.52    1.966667\n",
      "-------------------the 30 iteration------------------\n",
      "-------------------the 30 iteration------------------\n",
      "-------------------the 30 iteration------------------\n",
      "-------------------the 30 iteration------------------\n",
      "-------------------the 30 iteration------------------\n",
      "finish data!\n",
      "finish fit graph!\n",
      "Early stopped training at epoch 54\n",
      "proposed:train 0.5666666666666667 valid 0.45 test 0.6 n_suprious 1.0\n",
      "-------------------the 31 iteration------------------\n",
      "-------------------the 31 iteration------------------\n",
      "finish data!\n",
      "finish fit graph!\n"
     ]
    },
    {
     "name": "stdout",
     "output_type": "stream",
     "text": [
      "Early stopped training at epoch 85\n",
      "proposed:train 0.6 valid 0.7 test 0.35 n_suprious 1.0\n",
      "-------------------the 32 iteration------------------\n",
      "finish data!\n",
      "finish fit graph!\n",
      "Early stopped training at epoch 275\n",
      "proposed:train 0.7333333333333333 valid 0.6 test 0.5 n_suprious 2.0\n",
      "-------------------the 33 iteration------------------\n",
      "-------------------the 33 iteration------------------\n",
      "-------------------the 33 iteration------------------\n",
      "-------------------the 33 iteration------------------\n",
      "finish data!\n",
      "finish fit graph!\n",
      "Early stopped training at epoch 121\n",
      "proposed:train 0.8333333333333334 valid 0.7 test 0.45 n_suprious 4.0\n",
      "-------------------the 34 iteration------------------\n",
      "finish data!\n",
      "finish fit graph!\n",
      "Early stopped training at epoch 86\n",
      "proposed:train 0.6333333333333333 valid 0.45 test 0.55 n_suprious 4.0\n",
      "-------------------the 35 iteration------------------\n",
      "-------------------the 35 iteration------------------\n",
      "-------------------the 35 iteration------------------\n",
      "finish data!\n",
      "finish fit graph!\n",
      "Early stopped training at epoch 77\n",
      "proposed:train 0.7 valid 0.4 test 0.5 n_suprious 2.0\n",
      "-------------------the 36 iteration------------------\n",
      "-------------------the 36 iteration------------------\n",
      "finish data!\n",
      "finish fit graph!\n",
      "Early stopped training at epoch 64\n",
      "proposed:train 0.7 valid 0.5 test 0.8 n_suprious 2.0\n",
      "-------------------the 37 iteration------------------\n",
      "finish data!\n",
      "finish fit graph!\n",
      "Early stopped training at epoch 167\n",
      "proposed:train 0.7 valid 0.5 test 0.6 n_suprious 1.0\n",
      "-------------------the 38 iteration------------------\n",
      "-------------------the 38 iteration------------------\n",
      "finish data!\n",
      "finish fit graph!\n",
      "Early stopped training at epoch 97\n",
      "proposed:train 0.6666666666666666 valid 0.4 test 0.7 n_suprious 2.0\n",
      "-------------------the 39 iteration------------------\n",
      "-------------------the 39 iteration------------------\n",
      "-------------------the 39 iteration------------------\n",
      "-------------------the 39 iteration------------------\n",
      "finish data!\n",
      "finish fit graph!\n",
      "Early stopped training at epoch 65\n",
      "proposed:train 0.5333333333333333 valid 0.55 test 0.55 n_suprious 2.0\n",
      "          train_acc  valid_acc  test_acc  n_suprious\n",
      "model                                               \n",
      "proposed      0.695       0.54      0.53         2.0\n",
      "-------------------the 40 iteration------------------\n",
      "finish data!\n",
      "finish fit graph!\n",
      "Early stopped training at epoch 190\n",
      "proposed:train 0.7666666666666667 valid 0.65 test 0.3 n_suprious 2.0\n",
      "-------------------the 41 iteration------------------\n",
      "finish data!\n",
      "finish fit graph!\n",
      "Early stopped training at epoch 77\n",
      "proposed:train 0.7666666666666667 valid 0.5 test 0.55 n_suprious 1.0\n",
      "-------------------the 42 iteration------------------\n",
      "-------------------the 42 iteration------------------\n",
      "-------------------the 42 iteration------------------\n",
      "finish data!\n",
      "finish fit graph!\n",
      "Early stopped training at epoch 179\n",
      "proposed:train 0.5333333333333333 valid 0.5 test 0.6 n_suprious 2.0\n",
      "-------------------the 43 iteration------------------\n",
      "finish data!\n",
      "finish fit graph!\n",
      "Early stopped training at epoch 96\n",
      "proposed:train 0.8 valid 0.6 test 0.7 n_suprious 1.0\n",
      "-------------------the 44 iteration------------------\n",
      "finish data!\n",
      "finish fit graph!\n",
      "Early stopped training at epoch 299\n",
      "proposed:train 0.6666666666666666 valid 0.6 test 0.55 n_suprious 1.0\n",
      "-------------------the 45 iteration------------------\n",
      "-------------------the 45 iteration------------------\n",
      "-------------------the 45 iteration------------------\n",
      "finish data!\n",
      "finish fit graph!\n",
      "Early stopped training at epoch 52\n",
      "proposed:train 0.5666666666666667 valid 0.4 test 0.4 n_suprious 4.0\n",
      "-------------------the 46 iteration------------------\n",
      "finish data!\n",
      "finish fit graph!\n",
      "proposed:train 0.5 valid 0.5 test 0.75 n_suprious 1.0\n",
      "-------------------the 47 iteration------------------\n",
      "finish data!\n",
      "finish fit graph!\n",
      "Early stopped training at epoch 110\n",
      "proposed:train 0.6666666666666666 valid 0.45 test 0.7 n_suprious 2.0\n",
      "-------------------the 48 iteration------------------\n",
      "-------------------the 48 iteration------------------\n",
      "finish data!\n",
      "finish fit graph!\n",
      "Early stopped training at epoch 164\n",
      "proposed:train 0.6333333333333333 valid 0.55 test 0.6 n_suprious 1.0\n",
      "-------------------the 49 iteration------------------\n",
      "finish data!\n",
      "finish fit graph!\n",
      "proposed:train 0.7666666666666667 valid 0.75 test 0.65 n_suprious 3.0\n",
      "          train_acc  valid_acc  test_acc  n_suprious\n",
      "model                                               \n",
      "proposed   0.689333      0.542      0.54        1.96\n"
     ]
    }
   ],
   "source": [
    "torch.set_default_dtype(torch.double)\n",
    "np.set_printoptions(precision=3)\n",
    "\n",
    "torch.manual_seed(12345)\n",
    "ut.set_random_seed(12345)\n",
    "\n",
    "n = 50 #number of people\n",
    "\n",
    "d = 10 #number of features\n",
    "\n",
    "w_graph_type = 'ER'\n",
    "p_graph_type = 'ER' \n",
    "sem_type = 'exp'\n",
    "s0 =  d\n",
    "#params\n",
    "lr=0.01\n",
    "alpha=0.2\n",
    "beta=1\n",
    "gamma=0.2\n",
    "early_stop_thresh=50\n",
    "n_epoch=300\n",
    "output=pd.DataFrame(columns=[\"train_acc\",\"valid_acc\",\"test_acc\",\"model\",\"n_suprious\"])\n",
    "ith=0\n",
    "replicates=50\n",
    "while ith<2*replicates:\n",
    "    print(\"-------------------the\",ith//2,\"iteration------------------\")\n",
    "    #create data\n",
    "    Xlags,Xlags_test, adj1, w_true,w_mat,w_test_mat,n_suprious,w_random = data_pre_new(n, d, s0, w_graph_type,p_graph_type, sem_type)\n",
    "    if n_suprious<=0:\n",
    "        continue\n",
    "    Xlags_torch = torch.Tensor(np.array(Xlags))\n",
    "    print(\"finish data!\")\n",
    "#     #fit the causal graph\n",
    "#     adj1_torch = torch.Tensor(adj1)\n",
    "#     model_1 = GraphNOTEARS.model_p1_MLP(dims=[d, n, 1], bias=True)\n",
    "#     W_est_1, P1_est_1 = GraphNOTEARS.linear_model(model_1, Xlags_torch, adj1_torch,  lambda1 = 0.01, lambda2 = 0.01, lambda3 = 0.01)\n",
    "    print(\"finish fit graph!\")\n",
    "    #g,g_test\n",
    "    valid_list=random.sample(range(n), int(n*0.4))\n",
    "    g = create_graph(valid_list,adj1,Xlags,n)\n",
    "    g_test=create_graph(valid_list,adj1,Xlags_test,n)\n",
    "#     #GCN\n",
    "    gcn_msg = fn.copy_u(u=\"h\", out=\"m\")\n",
    "    gcn_reduce = fn.sum(msg=\"m\", out=\"h\")\n",
    "\n",
    "#     net = Net()\n",
    "\n",
    "    features = g.ndata['feature']\n",
    "    labels = g.ndata['label']\n",
    "    train_mask = g.ndata['train_mask']\n",
    "    valid_mask = g.ndata['valid_mask']\n",
    "#     ###test\n",
    "    features_test = g_test.ndata['feature']\n",
    "    labels_test = g_test.ndata['label']\n",
    "#     #parameters\n",
    "#     optimizer = torch.optim.Adam(net.parameters(), lr=lr)\n",
    "\n",
    "#     best_loss = 99998\n",
    "#     best_epoch = -1\n",
    "#     for epoch in range(n_epoch):\n",
    "#         net.train()\n",
    "#         logits = net(g, features)\n",
    "#         logp = F.log_softmax(logits, dim=-1)\n",
    "#         loss = F.nll_loss(logp[train_mask], labels[train_mask])\n",
    "\n",
    "#         optimizer.zero_grad()\n",
    "#         loss.backward()\n",
    "#         optimizer.step()\n",
    "#         ##evaluate\n",
    "#         net.eval()\n",
    "#         train_acc = evaluate(net, g, features, labels, train_mask)\n",
    "#         valid_acc = evaluate(net, g, features, labels, valid_mask)\n",
    "#         test_acc = evaluate(net, g_test, features_test, labels_test, valid_mask)\n",
    "#         valid_loss = F.nll_loss(logp[valid_mask], labels[valid_mask])\n",
    "#         #early stop\n",
    "#         if valid_loss < best_loss:\n",
    "#             best_loss = valid_loss\n",
    "#             best_epoch = epoch\n",
    "#             #torch.save(net.state_dict(), \"GCN_demo_large.pth\")\n",
    "#         elif epoch - best_epoch > early_stop_thresh:\n",
    "#             print(\"Early stopped training at epoch %d\" % epoch)\n",
    "#             break  # terminate the training loop\n",
    "#     print(\"GCN:train\",train_acc,\"valid\",valid_acc,\"test\",test_acc)\n",
    "#     output.loc[ith]=[train_acc,valid_acc,test_acc,\"GCN\",n_suprious]\n",
    "    ith+=1\n",
    "    ##proposed\n",
    "    model = atten_Net(in_feats=d-1, hid_feats=4, out_feats=2,n_node=d)\n",
    "\n",
    "    #params\n",
    "    best_loss = 99998\n",
    "    best_epoch = -1\n",
    "\n",
    "    optimizer = torch.optim.Adam(model.parameters(), lr=lr)\n",
    "    #scheduler = torch.optim.lr_scheduler.ExponentialLR(optimizer, gamma=0.9)\n",
    "    for epoch in range(n_epoch):\n",
    "        model.train()\n",
    "        xc_logits,xo_logits,xco_logits = model(g, features,torch.tensor(w_random[:-1,:]))\n",
    "        ##trivial part\n",
    "        uniform_target = torch.ones_like(xc_logits[train_mask], dtype=torch.double)/2\n",
    "        c_loss = F.kl_div(xc_logits[train_mask], uniform_target, reduction='batchmean')\n",
    "\n",
    "        o_loss = F.nll_loss(xo_logits[train_mask], labels[train_mask])\n",
    "        co_loss= F.nll_loss(xco_logits[train_mask], labels[train_mask])\n",
    "        loss = alpha * c_loss + beta * o_loss +gamma*co_loss\n",
    "\n",
    "        optimizer.zero_grad()\n",
    "        loss.backward()\n",
    "        optimizer.step()\n",
    "        #scheduler.step()\n",
    "        ##evaluate\n",
    "        model.eval()\n",
    "        train_acc = evaluate_new(model, g, features, labels, train_mask,torch.tensor(w_random[:-1,:]))\n",
    "        valid_acc = evaluate_new(model, g, features, labels, valid_mask,torch.tensor(w_random[:-1,:]))\n",
    "        test_acc = evaluate_new(model, g_test, features_test, labels_test, valid_mask,torch.tensor(w_random[:-1,:]))\n",
    "        #valid loss\n",
    "        uniform_target = torch.ones_like(xc_logits[valid_mask], dtype=torch.double)/2\n",
    "        valid_c_loss = F.kl_div(xc_logits[valid_mask], uniform_target, reduction='batchmean')\n",
    "        valid_o_loss = F.nll_loss(xo_logits[valid_mask], labels[valid_mask])\n",
    "        valid_co_loss = F.nll_loss(xco_logits[valid_mask], labels[valid_mask])\n",
    "        valid_loss = alpha * valid_c_loss+beta *valid_o_loss+gamma*valid_co_loss\n",
    "        #test loss\n",
    "        test_xc_logits,test_xo_logits,test_xco_logits = model(g_test, features_test,torch.tensor(w_random[:-1,:]))\n",
    "        uniform_target = torch.ones_like(test_xo_logits[valid_mask], dtype=torch.double)/2\n",
    "        test_c_loss = F.kl_div(test_xc_logits[valid_mask], uniform_target, reduction='batchmean')\n",
    "        test_o_loss = F.nll_loss(test_xo_logits[valid_mask], labels_test[valid_mask])\n",
    "        test_co_loss = F.nll_loss(test_xco_logits[valid_mask], labels_test[valid_mask])\n",
    "        test_loss = alpha * test_c_loss + beta * test_o_loss+gamma*test_co_loss\n",
    "    #early stop     \n",
    "        if valid_loss < best_loss:\n",
    "            best_loss = valid_loss\n",
    "            best_epoch = epoch\n",
    "            #torch.save(model.state_dict(), \"attention_demo_large.pth\")\n",
    "        elif epoch - best_epoch > early_stop_thresh:\n",
    "            print(\"Early stopped training at epoch %d\" % epoch)\n",
    "            break  # terminate the training loop\n",
    "    print(\"proposed:train\",train_acc,\"valid\",valid_acc,\"test\",test_acc,\"n_suprious\",n_suprious)\n",
    "    output.loc[ith]=[train_acc,valid_acc,test_acc,\"proposed\",n_suprious]\n",
    "    ith+=1\n",
    "    if ith %20==0:\n",
    "        print(output.groupby(\"model\").mean())"
   ]
  },
  {
   "cell_type": "code",
   "execution_count": 26,
   "id": "dbc1fcb0",
   "metadata": {},
   "outputs": [],
   "source": [
    "output.to_csv(\"random,d=10,lr=0.01,alpha=0.2,beta=1,gamma=0.2,early_stop_thresh=50,n_epoch=300.csv\")"
   ]
  },
  {
   "cell_type": "code",
   "execution_count": 27,
   "id": "e42908e6",
   "metadata": {},
   "outputs": [
    {
     "data": {
      "text/html": [
       "<div>\n",
       "<style scoped>\n",
       "    .dataframe tbody tr th:only-of-type {\n",
       "        vertical-align: middle;\n",
       "    }\n",
       "\n",
       "    .dataframe tbody tr th {\n",
       "        vertical-align: top;\n",
       "    }\n",
       "\n",
       "    .dataframe thead th {\n",
       "        text-align: right;\n",
       "    }\n",
       "</style>\n",
       "<table border=\"1\" class=\"dataframe\">\n",
       "  <thead>\n",
       "    <tr style=\"text-align: right;\">\n",
       "      <th></th>\n",
       "      <th>train_acc</th>\n",
       "      <th>valid_acc</th>\n",
       "      <th>test_acc</th>\n",
       "      <th>n_suprious</th>\n",
       "    </tr>\n",
       "    <tr>\n",
       "      <th>model</th>\n",
       "      <th></th>\n",
       "      <th></th>\n",
       "      <th></th>\n",
       "      <th></th>\n",
       "    </tr>\n",
       "  </thead>\n",
       "  <tbody>\n",
       "    <tr>\n",
       "      <th>proposed</th>\n",
       "      <td>0.689333</td>\n",
       "      <td>0.542</td>\n",
       "      <td>0.54</td>\n",
       "      <td>1.96</td>\n",
       "    </tr>\n",
       "  </tbody>\n",
       "</table>\n",
       "</div>"
      ],
      "text/plain": [
       "          train_acc  valid_acc  test_acc  n_suprious\n",
       "model                                               \n",
       "proposed   0.689333      0.542      0.54        1.96"
      ]
     },
     "execution_count": 27,
     "metadata": {},
     "output_type": "execute_result"
    }
   ],
   "source": [
    "output.groupby(\"model\").mean()"
   ]
  },
  {
   "cell_type": "code",
   "execution_count": 30,
   "id": "16efb753",
   "metadata": {},
   "outputs": [
    {
     "data": {
      "text/html": [
       "<div>\n",
       "<style scoped>\n",
       "    .dataframe tbody tr th:only-of-type {\n",
       "        vertical-align: middle;\n",
       "    }\n",
       "\n",
       "    .dataframe tbody tr th {\n",
       "        vertical-align: top;\n",
       "    }\n",
       "\n",
       "    .dataframe thead th {\n",
       "        text-align: right;\n",
       "    }\n",
       "</style>\n",
       "<table border=\"1\" class=\"dataframe\">\n",
       "  <thead>\n",
       "    <tr style=\"text-align: right;\">\n",
       "      <th></th>\n",
       "      <th>train_acc</th>\n",
       "      <th>valid_acc</th>\n",
       "      <th>test_acc</th>\n",
       "      <th>n_suprious</th>\n",
       "    </tr>\n",
       "    <tr>\n",
       "      <th>model</th>\n",
       "      <th></th>\n",
       "      <th></th>\n",
       "      <th></th>\n",
       "      <th></th>\n",
       "    </tr>\n",
       "  </thead>\n",
       "  <tbody>\n",
       "    <tr>\n",
       "      <th>proposed</th>\n",
       "      <td>0.014613</td>\n",
       "      <td>0.015673</td>\n",
       "      <td>0.019431</td>\n",
       "      <td>0.13389</td>\n",
       "    </tr>\n",
       "  </tbody>\n",
       "</table>\n",
       "</div>"
      ],
      "text/plain": [
       "          train_acc  valid_acc  test_acc  n_suprious\n",
       "model                                               \n",
       "proposed   0.014613   0.015673  0.019431     0.13389"
      ]
     },
     "execution_count": 30,
     "metadata": {},
     "output_type": "execute_result"
    }
   ],
   "source": [
    "output.groupby(\"model\").std()/np.sqrt(50)"
   ]
  },
  {
   "cell_type": "code",
   "execution_count": 13,
   "id": "fbbbd817",
   "metadata": {},
   "outputs": [],
   "source": [
    "diff_list=[]\n",
    "for i in range(50):\n",
    "    GCN=output.loc[i*2][\"test_acc\"]\n",
    "    proposed=output.loc[i*2+1][\"test_acc\"]\n",
    "    diff=proposed-GCN\n",
    "    diff_list.append(diff)\n",
    "    "
   ]
  },
  {
   "cell_type": "code",
   "execution_count": 27,
   "id": "f930a3a9",
   "metadata": {},
   "outputs": [
    {
     "data": {
      "text/plain": [
       "0.01949153984476342"
      ]
     },
     "execution_count": 27,
     "metadata": {},
     "output_type": "execute_result"
    }
   ],
   "source": [
    "0.137826/np.sqrt(50)"
   ]
  },
  {
   "cell_type": "code",
   "execution_count": 22,
   "id": "02f22b10",
   "metadata": {},
   "outputs": [
    {
     "data": {
      "text/plain": [
       "0.020999999999999998"
      ]
     },
     "execution_count": 22,
     "metadata": {},
     "output_type": "execute_result"
    }
   ],
   "source": [
    "np.mean(diff_list)"
   ]
  },
  {
   "cell_type": "code",
   "execution_count": 77,
   "id": "b9d20f5e",
   "metadata": {},
   "outputs": [
    {
     "name": "stdout",
     "output_type": "stream",
     "text": [
      "finish data!\n",
      "finish fit graph!\n"
     ]
    }
   ],
   "source": [
    "Xlags,Xlags_test, adj1, w_true,w_mat,w_test_mat,n_suprious = data_pre(n, d, s0, w_graph_type,p_graph_type, sem_type)\n",
    "if n_suprious<=0:\n",
    "    print(\"not valid\")\n",
    "Xlags_torch = torch.Tensor(np.array(Xlags))\n",
    "print(\"finish data!\")\n",
    "#fit the causal graph\n",
    "adj1_torch = torch.Tensor(adj1)\n",
    "model_1 = GraphNOTEARS.model_p1_MLP(dims=[d, n, 1], bias=True)\n",
    "W_est_1, P1_est_1 = GraphNOTEARS.linear_model(model_1, Xlags_torch, adj1_torch,  lambda1 = 0.01, lambda2 = 0.01, lambda3 = 0.01)\n",
    "print(\"finish fit graph!\")\n",
    "#g,g_test\n",
    "valid_list=random.sample(range(n), int(n*0.4))\n",
    "g = create_graph(valid_list,adj1,Xlags,n)\n",
    "g_test=create_graph(valid_list,adj1,Xlags_test,n)\n"
   ]
  },
  {
   "cell_type": "code",
   "execution_count": 78,
   "id": "6115e695",
   "metadata": {},
   "outputs": [],
   "source": [
    "lr=0.01\n",
    "alpha=0.2\n",
    "beta=1\n",
    "gamma=0.2\n",
    "early_stop_thresh=300\n",
    "n_epoch=50"
   ]
  },
  {
   "cell_type": "code",
   "execution_count": 79,
   "id": "855814db",
   "metadata": {},
   "outputs": [
    {
     "name": "stdout",
     "output_type": "stream",
     "text": [
      "GCN:train 0.6 valid 0.45 test 0.5\n"
     ]
    }
   ],
   "source": [
    "    gcn_msg = fn.copy_u(u=\"h\", out=\"m\")\n",
    "    gcn_reduce = fn.sum(msg=\"m\", out=\"h\")\n",
    "\n",
    "    net = Net()\n",
    "\n",
    "    features = g.ndata['feature']\n",
    "    labels = g.ndata['label']\n",
    "    train_mask = g.ndata['train_mask']\n",
    "    valid_mask = g.ndata['valid_mask']\n",
    "    ###test\n",
    "    features_test = g_test.ndata['feature']\n",
    "    labels_test = g_test.ndata['label']\n",
    "    ###metric\n",
    "    train_acc_list=[]\n",
    "    valid_acc_list=[]\n",
    "    test_acc_list=[]\n",
    "    loss_list=[]\n",
    "    #parameters\n",
    "    optimizer = torch.optim.Adam(net.parameters(), lr=lr)\n",
    "    best_loss = 99998\n",
    "    best_epoch = -1\n",
    "    for epoch in range(n_epoch):\n",
    "        net.train()\n",
    "        logits = net(g, features)\n",
    "        logp = F.log_softmax(logits, dim=-1)\n",
    "        loss = F.nll_loss(logp[train_mask], labels[train_mask])\n",
    "        loss_list.append(loss)\n",
    "\n",
    "        optimizer.zero_grad()\n",
    "        loss.backward()\n",
    "        optimizer.step()\n",
    "        ##evaluate\n",
    "        net.eval()\n",
    "        train_acc = evaluate(net, g, features, labels, train_mask)\n",
    "        valid_acc = evaluate(net, g, features, labels, valid_mask)\n",
    "        test_acc = evaluate(net, g_test, features_test, labels_test, valid_mask)\n",
    "        valid_loss = F.nll_loss(logp[valid_mask], labels[valid_mask])\n",
    "        train_acc_list.append(train_acc)\n",
    "        valid_acc_list.append(valid_acc)\n",
    "        test_acc_list.append(test_acc)\n",
    "        #early stop\n",
    "        if valid_loss < best_loss:\n",
    "            best_loss = valid_loss\n",
    "            best_epoch = epoch\n",
    "            #torch.save(net.state_dict(), \"GCN_demo_large.pth\")\n",
    "        elif epoch - best_epoch > early_stop_thresh:\n",
    "            print(\"Early stopped training at epoch %d\" % epoch)\n",
    "            break  # terminate the training loop\n",
    "    print(\"GCN:train\",train_acc,\"valid\",valid_acc,\"test\",test_acc)"
   ]
  },
  {
   "cell_type": "code",
   "execution_count": 80,
   "id": "c6b7c440",
   "metadata": {},
   "outputs": [
    {
     "data": {
      "image/png": "[encoded data removed]",
      "text/plain": [
       "<Figure size 432x288 with 1 Axes>"
      ]
     },
     "metadata": {
      "needs_background": "light"
     },
     "output_type": "display_data"
    }
   ],
   "source": [
    "from matplotlib import pyplot as plt\n",
    "#history = model1.fit(train_x, train_y,validation_split = 0.1, epochs=50, batch_size=4)\n",
    "plt.plot(train_acc_list)\n",
    "plt.plot(valid_acc_list)\n",
    "plt.plot(test_acc_list)\n",
    "#plt.plot(loss_list)\n",
    "#plt.plot(loss_list)\n",
    "plt.title('model accuracy')\n",
    "plt.ylabel('accuracy')\n",
    "plt.xlabel('epoch')\n",
    "plt.legend(['train', 'val','test','loss'], loc='upper left')\n",
    "plt.show()"
   ]
  },
  {
   "cell_type": "code",
   "execution_count": 81,
   "id": "0e946ed1",
   "metadata": {},
   "outputs": [
    {
     "name": "stdout",
     "output_type": "stream",
     "text": [
      "proposed:train 0.6 valid 0.45 test 0.55 n_suprious 2.0\n"
     ]
    }
   ],
   "source": [
    "##proposed\n",
    "model = atten_Net(in_feats=d-1, hid_feats=3, out_feats=2,n_node=d)\n",
    "\n",
    "#params\n",
    "best_loss = 99998\n",
    "best_epoch = -1\n",
    "###metric\n",
    "train_acc_list=[]\n",
    "valid_acc_list=[]\n",
    "test_acc_list=[]\n",
    "optimizer = torch.optim.Adam(model.parameters(), lr=lr)\n",
    "#scheduler = torch.optim.lr_scheduler.ExponentialLR(optimizer, gamma=0.9)\n",
    "for epoch in range(n_epoch):\n",
    "    model.train()\n",
    "    xc_logits,xo_logits,xco_logits = model(g, features,torch.tensor(W_est_1[:-1,:]))\n",
    "    ##trivial part\n",
    "    uniform_target = torch.ones_like(xc_logits[train_mask], dtype=torch.float)/2\n",
    "    c_loss = F.kl_div(xc_logits[train_mask], uniform_target, reduction='batchmean')\n",
    "\n",
    "    o_loss = F.nll_loss(xo_logits[train_mask], labels[train_mask])\n",
    "    co_loss= F.nll_loss(xco_logits[train_mask], labels[train_mask])\n",
    "    loss = alpha * c_loss + beta * o_loss +gamma*co_loss\n",
    "\n",
    "    optimizer.zero_grad()\n",
    "    loss.backward()\n",
    "    optimizer.step()\n",
    "    #scheduler.step()\n",
    "    ##evaluate\n",
    "    model.eval()\n",
    "    train_acc = evaluate_new(model, g, features, labels, train_mask,torch.tensor(W_est_1[:-1,:]))\n",
    "    valid_acc = evaluate_new(model, g, features, labels, valid_mask,torch.tensor(W_est_1[:-1,:]))\n",
    "    test_acc = evaluate_new(model, g_test, features_test, labels_test, valid_mask,torch.tensor(W_est_1[:-1,:]))\n",
    "    #valid loss\n",
    "    uniform_target = torch.ones_like(xc_logits[valid_mask], dtype=torch.float)/2\n",
    "    valid_c_loss = F.kl_div(xc_logits[valid_mask], uniform_target, reduction='batchmean')\n",
    "    valid_o_loss = F.nll_loss(xo_logits[valid_mask], labels[valid_mask])\n",
    "    valid_co_loss = F.nll_loss(xco_logits[valid_mask], labels[valid_mask])\n",
    "    valid_loss = alpha * valid_c_loss+beta *valid_o_loss+gamma*valid_co_loss\n",
    "    #test loss\n",
    "    test_xc_logits,test_xo_logits,test_xco_logits = model(g_test, features_test,torch.tensor(W_est_1[:-1,:]))\n",
    "    uniform_target = torch.ones_like(test_xc_logits[valid_mask], dtype=torch.float)/2\n",
    "    test_c_loss = F.kl_div(test_xc_logits[valid_mask], uniform_target, reduction='batchmean')\n",
    "    test_o_loss = F.nll_loss(test_xo_logits[valid_mask], labels_test[valid_mask])\n",
    "    test_co_loss = F.nll_loss(test_xco_logits[valid_mask], labels_test[valid_mask])\n",
    "    test_loss = alpha * test_c_loss + beta * test_o_loss+gamma*test_co_loss\n",
    "    train_acc_list.append(train_acc)\n",
    "    valid_acc_list.append(valid_acc)\n",
    "    test_acc_list.append(test_acc)\n",
    "#early stop     \n",
    "    if valid_loss < best_loss:\n",
    "        best_loss = valid_loss\n",
    "        best_epoch = epoch\n",
    "        #torch.save(model.state_dict(), \"attention_demo_large.pth\")\n",
    "    elif epoch - best_epoch > early_stop_thresh:\n",
    "        print(\"Early stopped training at epoch %d\" % epoch)\n",
    "        break  # terminate the training loop\n",
    "print(\"proposed:train\",train_acc,\"valid\",valid_acc,\"test\",test_acc,\"n_suprious\",n_suprious)"
   ]
  },
  {
   "cell_type": "code",
   "execution_count": 82,
   "id": "5d659101",
   "metadata": {},
   "outputs": [
    {
     "data": {
      "image/png": "[encoded data removed]",
      "text/plain": [
       "<Figure size 432x288 with 1 Axes>"
      ]
     },
     "metadata": {
      "needs_background": "light"
     },
     "output_type": "display_data"
    }
   ],
   "source": [
    "from matplotlib import pyplot as plt\n",
    "#history = model1.fit(train_x, train_y,validation_split = 0.1, epochs=50, batch_size=4)\n",
    "plt.plot(train_acc_list)\n",
    "plt.plot(valid_acc_list)\n",
    "plt.plot(test_acc_list)\n",
    "plt.title('model accuracy')\n",
    "plt.ylabel('accuracy')\n",
    "plt.xlabel('epoch')\n",
    "plt.legend(['train', 'val','test'], loc='upper left')\n",
    "plt.show()"
   ]
  },
  {
   "cell_type": "code",
   "execution_count": 249,
   "id": "30814dd2",
   "metadata": {},
   "outputs": [
    {
     "data": {
      "text/plain": [
       "'505'"
      ]
     },
     "execution_count": 249,
     "metadata": {},
     "output_type": "execute_result"
    }
   ],
   "source": [
    "str(n)+str(d)"
   ]
  },
  {
   "cell_type": "code",
   "execution_count": 19,
   "id": "ab38ff37",
   "metadata": {},
   "outputs": [],
   "source": [
    "output_new=output"
   ]
  },
  {
   "cell_type": "code",
   "execution_count": 22,
   "id": "91bac9ca",
   "metadata": {},
   "outputs": [
    {
     "data": {
      "text/html": [
       "<div>\n",
       "<style scoped>\n",
       "    .dataframe tbody tr th:only-of-type {\n",
       "        vertical-align: middle;\n",
       "    }\n",
       "\n",
       "    .dataframe tbody tr th {\n",
       "        vertical-align: top;\n",
       "    }\n",
       "\n",
       "    .dataframe thead th {\n",
       "        text-align: right;\n",
       "    }\n",
       "</style>\n",
       "<table border=\"1\" class=\"dataframe\">\n",
       "  <thead>\n",
       "    <tr style=\"text-align: right;\">\n",
       "      <th></th>\n",
       "      <th>train_acc</th>\n",
       "      <th>valid_acc</th>\n",
       "      <th>test_acc</th>\n",
       "      <th>n_suprious</th>\n",
       "    </tr>\n",
       "    <tr>\n",
       "      <th>model</th>\n",
       "      <th></th>\n",
       "      <th></th>\n",
       "      <th></th>\n",
       "      <th></th>\n",
       "    </tr>\n",
       "  </thead>\n",
       "  <tbody>\n",
       "    <tr>\n",
       "      <th>GCN</th>\n",
       "      <td>0.872000</td>\n",
       "      <td>0.844</td>\n",
       "      <td>0.738</td>\n",
       "      <td>1.44</td>\n",
       "    </tr>\n",
       "    <tr>\n",
       "      <th>proposed</th>\n",
       "      <td>0.863333</td>\n",
       "      <td>0.848</td>\n",
       "      <td>0.711</td>\n",
       "      <td>1.44</td>\n",
       "    </tr>\n",
       "  </tbody>\n",
       "</table>\n",
       "</div>"
      ],
      "text/plain": [
       "          train_acc  valid_acc  test_acc  n_suprious\n",
       "model                                               \n",
       "GCN        0.872000      0.844     0.738        1.44\n",
       "proposed   0.863333      0.848     0.711        1.44"
      ]
     },
     "execution_count": 22,
     "metadata": {},
     "output_type": "execute_result"
    }
   ],
   "source": [
    "output_new.groupby(\"model\").mean()"
   ]
  },
  {
   "cell_type": "code",
   "execution_count": 1,
   "id": "a5d37374",
   "metadata": {},
   "outputs": [
    {
     "ename": "NameError",
     "evalue": "name 'output' is not defined",
     "output_type": "error",
     "traceback": [
      "\u001b[1;31m---------------------------------------------------------------------------\u001b[0m",
      "\u001b[1;31mNameError\u001b[0m                                 Traceback (most recent call last)",
      "\u001b[1;32m<ipython-input-1-9ae63a323818>\u001b[0m in \u001b[0;36m<module>\u001b[1;34m\u001b[0m\n\u001b[1;32m----> 1\u001b[1;33m \u001b[0ma\u001b[0m\u001b[1;33m=\u001b[0m\u001b[0moutput\u001b[0m\u001b[1;33m\u001b[0m\u001b[1;33m\u001b[0m\u001b[0m\n\u001b[0m",
      "\u001b[1;31mNameError\u001b[0m: name 'output' is not defined"
     ]
    }
   ],
   "source": [
    "a=output"
   ]
  },
  {
   "cell_type": "code",
   "execution_count": 96,
   "id": "6b4eaa7c",
   "metadata": {},
   "outputs": [
    {
     "data": {
      "text/html": [
       "<div>\n",
       "<style scoped>\n",
       "    .dataframe tbody tr th:only-of-type {\n",
       "        vertical-align: middle;\n",
       "    }\n",
       "\n",
       "    .dataframe tbody tr th {\n",
       "        vertical-align: top;\n",
       "    }\n",
       "\n",
       "    .dataframe thead th {\n",
       "        text-align: right;\n",
       "    }\n",
       "</style>\n",
       "<table border=\"1\" class=\"dataframe\">\n",
       "  <thead>\n",
       "    <tr style=\"text-align: right;\">\n",
       "      <th></th>\n",
       "      <th>train_acc</th>\n",
       "      <th>valid_acc</th>\n",
       "      <th>test_acc</th>\n",
       "      <th>n_suprious</th>\n",
       "    </tr>\n",
       "    <tr>\n",
       "      <th>model</th>\n",
       "      <th></th>\n",
       "      <th></th>\n",
       "      <th></th>\n",
       "      <th></th>\n",
       "    </tr>\n",
       "  </thead>\n",
       "  <tbody>\n",
       "    <tr>\n",
       "      <th>GCN</th>\n",
       "      <td>0.869667</td>\n",
       "      <td>0.837</td>\n",
       "      <td>0.704</td>\n",
       "      <td>1.43</td>\n",
       "    </tr>\n",
       "    <tr>\n",
       "      <th>proposed</th>\n",
       "      <td>0.868000</td>\n",
       "      <td>0.835</td>\n",
       "      <td>0.696</td>\n",
       "      <td>1.43</td>\n",
       "    </tr>\n",
       "  </tbody>\n",
       "</table>\n",
       "</div>"
      ],
      "text/plain": [
       "          train_acc  valid_acc  test_acc  n_suprious\n",
       "model                                               \n",
       "GCN        0.869667      0.837     0.704        1.43\n",
       "proposed   0.868000      0.835     0.696        1.43"
      ]
     },
     "execution_count": 96,
     "metadata": {},
     "output_type": "execute_result"
    }
   ],
   "source": [
    "a.groupby(\"model\").mean()"
   ]
  },
  {
   "cell_type": "code",
   "execution_count": 97,
   "id": "591ab6ba",
   "metadata": {},
   "outputs": [
    {
     "data": {
      "text/html": [
       "<div>\n",
       "<style scoped>\n",
       "    .dataframe tbody tr th:only-of-type {\n",
       "        vertical-align: middle;\n",
       "    }\n",
       "\n",
       "    .dataframe tbody tr th {\n",
       "        vertical-align: top;\n",
       "    }\n",
       "\n",
       "    .dataframe thead th {\n",
       "        text-align: right;\n",
       "    }\n",
       "</style>\n",
       "<table border=\"1\" class=\"dataframe\">\n",
       "  <thead>\n",
       "    <tr style=\"text-align: right;\">\n",
       "      <th></th>\n",
       "      <th>train_acc</th>\n",
       "      <th>valid_acc</th>\n",
       "      <th>test_acc</th>\n",
       "      <th>n_suprious</th>\n",
       "    </tr>\n",
       "    <tr>\n",
       "      <th>model</th>\n",
       "      <th></th>\n",
       "      <th></th>\n",
       "      <th></th>\n",
       "      <th></th>\n",
       "    </tr>\n",
       "  </thead>\n",
       "  <tbody>\n",
       "    <tr>\n",
       "      <th>GCN</th>\n",
       "      <td>0.137893</td>\n",
       "      <td>0.171391</td>\n",
       "      <td>0.300814</td>\n",
       "      <td>0.49757</td>\n",
       "    </tr>\n",
       "    <tr>\n",
       "      <th>proposed</th>\n",
       "      <td>0.142127</td>\n",
       "      <td>0.172108</td>\n",
       "      <td>0.306716</td>\n",
       "      <td>0.49757</td>\n",
       "    </tr>\n",
       "  </tbody>\n",
       "</table>\n",
       "</div>"
      ],
      "text/plain": [
       "          train_acc  valid_acc  test_acc  n_suprious\n",
       "model                                               \n",
       "GCN        0.137893   0.171391  0.300814     0.49757\n",
       "proposed   0.142127   0.172108  0.306716     0.49757"
      ]
     },
     "execution_count": 97,
     "metadata": {},
     "output_type": "execute_result"
    }
   ],
   "source": [
    "a.groupby(\"model\").std()"
   ]
  },
  {
   "cell_type": "code",
   "execution_count": 93,
   "id": "90819f08",
   "metadata": {},
   "outputs": [
    {
     "data": {
      "text/plain": [
       "49"
      ]
     },
     "execution_count": 93,
     "metadata": {},
     "output_type": "execute_result"
    }
   ],
   "source": [
    "i"
   ]
  },
  {
   "cell_type": "code",
   "execution_count": 94,
   "id": "148a6bff",
   "metadata": {},
   "outputs": [],
   "source": [
    "diff_list=[]\n",
    "for i in range(50):\n",
    "    GCN=a.loc[i*2][\"test_acc\"]\n",
    "    proposed=a.loc[i*2+1][\"test_acc\"]\n",
    "    diff=proposed-GCN\n",
    "    diff_list.append(diff)\n",
    "    "
   ]
  },
  {
   "cell_type": "code",
   "execution_count": 88,
   "id": "cb353068",
   "metadata": {},
   "outputs": [
    {
     "data": {
      "text/plain": [
       "0.005999999999999992"
      ]
     },
     "execution_count": 88,
     "metadata": {},
     "output_type": "execute_result"
    }
   ],
   "source": [
    "np.mean(diff_list)"
   ]
  },
  {
   "cell_type": "code",
   "execution_count": 89,
   "id": "9cf17f86",
   "metadata": {},
   "outputs": [
    {
     "data": {
      "text/plain": [
       "0.3775764823184834"
      ]
     },
     "execution_count": 89,
     "metadata": {},
     "output_type": "execute_result"
    }
   ],
   "source": [
    "np.std(diff_list)"
   ]
  },
  {
   "cell_type": "code",
   "execution_count": 72,
   "id": "9784fed8",
   "metadata": {},
   "outputs": [
    {
     "data": {
      "text/html": [
       "<div>\n",
       "<style scoped>\n",
       "    .dataframe tbody tr th:only-of-type {\n",
       "        vertical-align: middle;\n",
       "    }\n",
       "\n",
       "    .dataframe tbody tr th {\n",
       "        vertical-align: top;\n",
       "    }\n",
       "\n",
       "    .dataframe thead th {\n",
       "        text-align: right;\n",
       "    }\n",
       "</style>\n",
       "<table border=\"1\" class=\"dataframe\">\n",
       "  <thead>\n",
       "    <tr style=\"text-align: right;\">\n",
       "      <th></th>\n",
       "      <th>train_acc</th>\n",
       "      <th>valid_acc</th>\n",
       "      <th>test_acc</th>\n",
       "      <th>n_suprious</th>\n",
       "    </tr>\n",
       "    <tr>\n",
       "      <th>model</th>\n",
       "      <th></th>\n",
       "      <th></th>\n",
       "      <th></th>\n",
       "      <th></th>\n",
       "    </tr>\n",
       "  </thead>\n",
       "  <tbody>\n",
       "    <tr>\n",
       "      <th>GCN</th>\n",
       "      <td>0.832000</td>\n",
       "      <td>0.798</td>\n",
       "      <td>0.618</td>\n",
       "      <td>1.36</td>\n",
       "    </tr>\n",
       "    <tr>\n",
       "      <th>proposed</th>\n",
       "      <td>0.825333</td>\n",
       "      <td>0.810</td>\n",
       "      <td>0.660</td>\n",
       "      <td>1.36</td>\n",
       "    </tr>\n",
       "  </tbody>\n",
       "</table>\n",
       "</div>"
      ],
      "text/plain": [
       "          train_acc  valid_acc  test_acc  n_suprious\n",
       "model                                               \n",
       "GCN        0.832000      0.798     0.618        1.36\n",
       "proposed   0.825333      0.810     0.660        1.36"
      ]
     },
     "execution_count": 72,
     "metadata": {},
     "output_type": "execute_result"
    }
   ],
   "source": [
    "a.groupby(\"model\").mean()"
   ]
  },
  {
   "cell_type": "code",
   "execution_count": 67,
   "id": "ca1c9c40",
   "metadata": {},
   "outputs": [],
   "source": [
    "output.to_csv(\"n_feature=5.csv\")"
   ]
  },
  {
   "cell_type": "code",
   "execution_count": 40,
   "id": "f97d84ff",
   "metadata": {},
   "outputs": [
    {
     "data": {
      "text/html": [
       "<div>\n",
       "<style scoped>\n",
       "    .dataframe tbody tr th:only-of-type {\n",
       "        vertical-align: middle;\n",
       "    }\n",
       "\n",
       "    .dataframe tbody tr th {\n",
       "        vertical-align: top;\n",
       "    }\n",
       "\n",
       "    .dataframe thead th {\n",
       "        text-align: right;\n",
       "    }\n",
       "</style>\n",
       "<table border=\"1\" class=\"dataframe\">\n",
       "  <thead>\n",
       "    <tr style=\"text-align: right;\">\n",
       "      <th></th>\n",
       "      <th>train_acc</th>\n",
       "      <th>valid_acc</th>\n",
       "      <th>test_acc</th>\n",
       "      <th>n_suprious</th>\n",
       "    </tr>\n",
       "    <tr>\n",
       "      <th>model</th>\n",
       "      <th></th>\n",
       "      <th></th>\n",
       "      <th></th>\n",
       "      <th></th>\n",
       "    </tr>\n",
       "  </thead>\n",
       "  <tbody>\n",
       "    <tr>\n",
       "      <th>GCN</th>\n",
       "      <td>0.837500</td>\n",
       "      <td>0.67500</td>\n",
       "      <td>0.64375</td>\n",
       "      <td>1.625</td>\n",
       "    </tr>\n",
       "    <tr>\n",
       "      <th>proposed</th>\n",
       "      <td>0.820833</td>\n",
       "      <td>0.70625</td>\n",
       "      <td>0.71250</td>\n",
       "      <td>1.625</td>\n",
       "    </tr>\n",
       "  </tbody>\n",
       "</table>\n",
       "</div>"
      ],
      "text/plain": [
       "          train_acc  valid_acc  test_acc  n_suprious\n",
       "model                                               \n",
       "GCN        0.837500    0.67500   0.64375       1.625\n",
       "proposed   0.820833    0.70625   0.71250       1.625"
      ]
     },
     "execution_count": 40,
     "metadata": {},
     "output_type": "execute_result"
    }
   ],
   "source": [
    "output.groupby(\"model\").mean()"
   ]
  },
  {
   "cell_type": "code",
   "execution_count": 41,
   "id": "9a159762",
   "metadata": {},
   "outputs": [
    {
     "data": {
      "text/html": [
       "<div>\n",
       "<style scoped>\n",
       "    .dataframe tbody tr th:only-of-type {\n",
       "        vertical-align: middle;\n",
       "    }\n",
       "\n",
       "    .dataframe tbody tr th {\n",
       "        vertical-align: top;\n",
       "    }\n",
       "\n",
       "    .dataframe thead th {\n",
       "        text-align: right;\n",
       "    }\n",
       "</style>\n",
       "<table border=\"1\" class=\"dataframe\">\n",
       "  <thead>\n",
       "    <tr style=\"text-align: right;\">\n",
       "      <th></th>\n",
       "      <th>train_acc</th>\n",
       "      <th>valid_acc</th>\n",
       "      <th>test_acc</th>\n",
       "      <th>model</th>\n",
       "      <th>n_suprious</th>\n",
       "    </tr>\n",
       "  </thead>\n",
       "  <tbody>\n",
       "    <tr>\n",
       "      <th>0</th>\n",
       "      <td>0.966667</td>\n",
       "      <td>0.80</td>\n",
       "      <td>0.85</td>\n",
       "      <td>GCN</td>\n",
       "      <td>3.0</td>\n",
       "    </tr>\n",
       "    <tr>\n",
       "      <th>1</th>\n",
       "      <td>0.966667</td>\n",
       "      <td>0.85</td>\n",
       "      <td>0.75</td>\n",
       "      <td>proposed</td>\n",
       "      <td>3.0</td>\n",
       "    </tr>\n",
       "    <tr>\n",
       "      <th>2</th>\n",
       "      <td>0.800000</td>\n",
       "      <td>0.45</td>\n",
       "      <td>0.50</td>\n",
       "      <td>GCN</td>\n",
       "      <td>0.0</td>\n",
       "    </tr>\n",
       "    <tr>\n",
       "      <th>3</th>\n",
       "      <td>0.633333</td>\n",
       "      <td>0.50</td>\n",
       "      <td>0.55</td>\n",
       "      <td>proposed</td>\n",
       "      <td>0.0</td>\n",
       "    </tr>\n",
       "    <tr>\n",
       "      <th>4</th>\n",
       "      <td>0.733333</td>\n",
       "      <td>0.40</td>\n",
       "      <td>0.50</td>\n",
       "      <td>GCN</td>\n",
       "      <td>1.0</td>\n",
       "    </tr>\n",
       "    <tr>\n",
       "      <th>5</th>\n",
       "      <td>0.766667</td>\n",
       "      <td>0.55</td>\n",
       "      <td>0.60</td>\n",
       "      <td>proposed</td>\n",
       "      <td>1.0</td>\n",
       "    </tr>\n",
       "    <tr>\n",
       "      <th>6</th>\n",
       "      <td>0.700000</td>\n",
       "      <td>0.60</td>\n",
       "      <td>0.65</td>\n",
       "      <td>GCN</td>\n",
       "      <td>0.0</td>\n",
       "    </tr>\n",
       "    <tr>\n",
       "      <th>7</th>\n",
       "      <td>0.733333</td>\n",
       "      <td>0.60</td>\n",
       "      <td>0.70</td>\n",
       "      <td>proposed</td>\n",
       "      <td>0.0</td>\n",
       "    </tr>\n",
       "    <tr>\n",
       "      <th>8</th>\n",
       "      <td>1.000000</td>\n",
       "      <td>0.80</td>\n",
       "      <td>0.25</td>\n",
       "      <td>GCN</td>\n",
       "      <td>6.0</td>\n",
       "    </tr>\n",
       "    <tr>\n",
       "      <th>9</th>\n",
       "      <td>1.000000</td>\n",
       "      <td>0.80</td>\n",
       "      <td>0.70</td>\n",
       "      <td>proposed</td>\n",
       "      <td>6.0</td>\n",
       "    </tr>\n",
       "    <tr>\n",
       "      <th>10</th>\n",
       "      <td>0.733333</td>\n",
       "      <td>0.65</td>\n",
       "      <td>0.60</td>\n",
       "      <td>GCN</td>\n",
       "      <td>0.0</td>\n",
       "    </tr>\n",
       "    <tr>\n",
       "      <th>11</th>\n",
       "      <td>0.733333</td>\n",
       "      <td>0.60</td>\n",
       "      <td>0.70</td>\n",
       "      <td>proposed</td>\n",
       "      <td>0.0</td>\n",
       "    </tr>\n",
       "    <tr>\n",
       "      <th>12</th>\n",
       "      <td>0.766667</td>\n",
       "      <td>0.70</td>\n",
       "      <td>0.80</td>\n",
       "      <td>GCN</td>\n",
       "      <td>1.0</td>\n",
       "    </tr>\n",
       "    <tr>\n",
       "      <th>13</th>\n",
       "      <td>0.733333</td>\n",
       "      <td>0.75</td>\n",
       "      <td>0.70</td>\n",
       "      <td>proposed</td>\n",
       "      <td>1.0</td>\n",
       "    </tr>\n",
       "    <tr>\n",
       "      <th>14</th>\n",
       "      <td>1.000000</td>\n",
       "      <td>1.00</td>\n",
       "      <td>1.00</td>\n",
       "      <td>GCN</td>\n",
       "      <td>2.0</td>\n",
       "    </tr>\n",
       "    <tr>\n",
       "      <th>15</th>\n",
       "      <td>1.000000</td>\n",
       "      <td>1.00</td>\n",
       "      <td>1.00</td>\n",
       "      <td>proposed</td>\n",
       "      <td>2.0</td>\n",
       "    </tr>\n",
       "  </tbody>\n",
       "</table>\n",
       "</div>"
      ],
      "text/plain": [
       "    train_acc  valid_acc  test_acc     model  n_suprious\n",
       "0    0.966667       0.80      0.85       GCN         3.0\n",
       "1    0.966667       0.85      0.75  proposed         3.0\n",
       "2    0.800000       0.45      0.50       GCN         0.0\n",
       "3    0.633333       0.50      0.55  proposed         0.0\n",
       "4    0.733333       0.40      0.50       GCN         1.0\n",
       "5    0.766667       0.55      0.60  proposed         1.0\n",
       "6    0.700000       0.60      0.65       GCN         0.0\n",
       "7    0.733333       0.60      0.70  proposed         0.0\n",
       "8    1.000000       0.80      0.25       GCN         6.0\n",
       "9    1.000000       0.80      0.70  proposed         6.0\n",
       "10   0.733333       0.65      0.60       GCN         0.0\n",
       "11   0.733333       0.60      0.70  proposed         0.0\n",
       "12   0.766667       0.70      0.80       GCN         1.0\n",
       "13   0.733333       0.75      0.70  proposed         1.0\n",
       "14   1.000000       1.00      1.00       GCN         2.0\n",
       "15   1.000000       1.00      1.00  proposed         2.0"
      ]
     },
     "execution_count": 41,
     "metadata": {},
     "output_type": "execute_result"
    }
   ],
   "source": [
    "output"
   ]
  }
 ],
 "metadata": {
  "kernelspec": {
   "display_name": "Python 3",
   "language": "python",
   "name": "python3"
  },
  "language_info": {
   "codemirror_mode": {
    "name": "ipython",
    "version": 3
   },
   "file_extension": ".py",
   "mimetype": "text/x-python",
   "name": "python",
   "nbconvert_exporter": "python",
   "pygments_lexer": "ipython3",
   "version": "3.7.3"
  }
 },
 "nbformat": 4,
 "nbformat_minor": 5
}
